{
 "cells": [
  {
   "cell_type": "code",
   "execution_count": 545,
   "metadata": {},
   "outputs": [
    {
     "name": "stderr",
     "output_type": "stream",
     "text": [
      "100%|██████████| 200/200 [00:20<00:00,  9.85it/s]\n"
     ]
    }
   ],
   "source": [
    "from diffusers import StableDiffusionPipeline\n",
    "from diffusers import DDIMScheduler\n",
    "import torch\n",
    "\n",
    "model_id = \"cmu_cs_lr2e-06_steps400_from-atmguille_lr1e-06_steps2000_bs1_sn500/\"\n",
    "pipe = StableDiffusionPipeline.from_pretrained(\n",
    "    model_id, \n",
    "    scheduler=DDIMScheduler(beta_start=0.00085, beta_end=0.012, beta_schedule=\"scaled_linear\", clip_sample=False, set_alpha_to_one=False)\n",
    ").to(\"cuda:0\")\n",
    "\n",
    "pipe.safety_checker = lambda images, **kwargs: (images, False)\n",
    "\n",
    "prompt = \"photograph of person, face very similar to atmguille, cmu_cs building in the background, a portrait by Annie Leibovitz, Steve McCurry and Camille Souter, medium shot, high quality photography, Canon EOS R3, nikon d850 50mm, 4k, high resolution\"\n",
    "#prompt = \"realistic close portrait of atmguille, cmu_cs building far in the background, sigma 85mm f/1.4, 4k, depth of field, high resolution, 4k, 8k, hd, full color\"\n",
    "\n",
    "images = pipe(prompt, num_inference_steps=200, guidance_scale=7).images"
   ]
  },
  {
   "cell_type": "code",
   "execution_count": null,
   "metadata": {},
   "outputs": [],
   "source": [
    "images[0]"
   ]
  },
  {
   "cell_type": "code",
   "execution_count": 528,
   "metadata": {},
   "outputs": [],
   "source": [
    "import time\n",
    "images[0].save(f\"potential_images/{time.time()}.png\")"
   ]
  }
 ],
 "metadata": {
  "kernelspec": {
   "display_name": "Python 3.10.8 ('stable-diffusion')",
   "language": "python",
   "name": "python3"
  },
  "language_info": {
   "codemirror_mode": {
    "name": "ipython",
    "version": 3
   },
   "file_extension": ".py",
   "mimetype": "text/x-python",
   "name": "python",
   "nbconvert_exporter": "python",
   "pygments_lexer": "ipython3",
   "version": "3.10.8"
  },
  "orig_nbformat": 4,
  "vscode": {
   "interpreter": {
    "hash": "27f4c35813c9850aa16c683db28b1edd05bc6282c3bf813aafead0c904a9f155"
   }
  }
 },
 "nbformat": 4,
 "nbformat_minor": 2
}
